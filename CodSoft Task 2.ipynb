{
 "cells": [
  {
   "cell_type": "markdown",
   "id": "2d3333bb",
   "metadata": {},
   "source": [
    "# TASK 2 : CALCULATOR\n"
   ]
  },
  {
   "cell_type": "code",
   "execution_count": null,
   "id": "874f1afa",
   "metadata": {},
   "outputs": [],
   "source": [
    "def add(x, y):\n",
    "    return x + y\n",
    "\n",
    "def subtract(x, y):\n",
    "    return x - y\n",
    "\n",
    "def multiply(x, y):\n",
    "    return x * y\n",
    "\n",
    "def divide(x, y):\n",
    "    if y != 0:\n",
    "        return x / y\n",
    "    else:\n",
    "        return \"Error: Division by zero\"\n",
    "\n",
    "def calculator():\n",
    "    \n",
    "\n",
    "    print(\" ====Simple Calculator====\")\n",
    "    print(\"PRESS\")\n",
    "    print(\"1. Addition\")\n",
    "    print(\"2. Subtraction\")\n",
    "    print(\"3. Multiplication\")\n",
    "    print(\"4. Division\")\n",
    "\n",
    "    try:\n",
    "        choice = int(input(\"Enter operation choice : \"))\n",
    "    except ValueError:\n",
    "        print(\"Invalid input. Please enter a number.\")\n",
    "        return\n",
    "\n",
    "    if choice not in [1, 2, 3, 4]:\n",
    "        print(\"Invalid choice. Please enter a valid operation.\")\n",
    "        return\n",
    "\n",
    "    try:\n",
    "        num1 = float(input(\"Enter the first number: \"))\n",
    "        num2 = float(input(\"Enter the second number: \"))\n",
    "    except ValueError:\n",
    "        print(\"Invalid input. Please enter valid numbers.\")\n",
    "        return\n",
    "\n",
    "    if choice == 1:\n",
    "        result = add(num1, num2)\n",
    "        operation = \"Addition\"\n",
    "    elif choice == 2:\n",
    "        result = subtract(num1, num2)\n",
    "        operation = \"Subtraction\"\n",
    "    elif choice == 3:\n",
    "        result = multiply(num1, num2)\n",
    "        operation = \"Multiplication\"\n",
    "    else:\n",
    "        result = divide(num1, num2)\n",
    "        operation = \"Division\"\n",
    "\n",
    "    print(f\"{operation} result: {result}\")\n",
    "\n",
    "if __name__ == \"__main__\":\n",
    "    calculator()\n"
   ]
  }
 ],
 "metadata": {
  "kernelspec": {
   "display_name": "Python 3 (ipykernel)",
   "language": "python",
   "name": "python3"
  },
  "language_info": {
   "codemirror_mode": {
    "name": "ipython",
    "version": 3
   },
   "file_extension": ".py",
   "mimetype": "text/x-python",
   "name": "python",
   "nbconvert_exporter": "python",
   "pygments_lexer": "ipython3",
   "version": "3.11.5"
  }
 },
 "nbformat": 4,
 "nbformat_minor": 5
}
